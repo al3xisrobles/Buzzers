{
 "cells": [
  {
   "cell_type": "code",
   "execution_count": 3,
   "metadata": {},
   "outputs": [
    {
     "name": "stdout",
     "output_type": "stream",
     "text": [
      "Embeddings shape: (4, 1536)\n"
     ]
    }
   ],
   "source": [
    "import numpy as np\n",
    "from vectordb import VectorDB\n",
    "from vectordb import load_embeddings_from_csv\n",
    "\n",
    "embeddings = load_embeddings_from_csv('output/brand_vectors_with_embeddings.csv', col_name='Brand_embedding')\n",
    "db = VectorDB(dimension=embeddings.shape)\n",
    "\n",
    "# Add embeddings to DB\n",
    "db.add_vectors(embeddings)"
   ]
  },
  {
   "cell_type": "code",
   "execution_count": 5,
   "metadata": {},
   "outputs": [
    {
     "name": "stdout",
     "output_type": "stream",
     "text": [
      "Distances: [[504.62146 504.73688 505.39578]]\n",
      "Indices: [[3 0 2]]\n"
     ]
    }
   ],
   "source": [
    "# Example: Search for the top 3 nearest vectors to a random query vector\n",
    "query_vector = np.random.rand(1536).astype(np.float32)\n",
    "\n",
    "# k is the number of results we want to return\n",
    "k = 3\n",
    "\n",
    "# Search the db\n",
    "distances, indices = db.search_vectors(query_vector, k)\n",
    "\n",
    "print(\"Distances:\", distances)\n",
    "print(\"Indices:\", indices)"
   ]
  }
 ],
 "metadata": {
  "kernelspec": {
   "display_name": "newenv",
   "language": "python",
   "name": "python3"
  },
  "language_info": {
   "codemirror_mode": {
    "name": "ipython",
    "version": 3
   },
   "file_extension": ".py",
   "mimetype": "text/x-python",
   "name": "python",
   "nbconvert_exporter": "python",
   "pygments_lexer": "ipython3",
   "version": "3.12.3"
  }
 },
 "nbformat": 4,
 "nbformat_minor": 2
}
